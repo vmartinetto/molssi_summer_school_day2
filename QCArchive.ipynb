{
 "cells": [
  {
   "cell_type": "markdown",
   "metadata": {},
   "source": [
    "# QCArchive Demo"
   ]
  },
  {
   "cell_type": "code",
   "execution_count": 1,
   "metadata": {},
   "outputs": [],
   "source": [
    "import qcportal as ptl\n",
    "client = ptl.FractalClient()"
   ]
  },
  {
   "cell_type": "code",
   "execution_count": 24,
   "metadata": {},
   "outputs": [],
   "source": [
    "import numpy as np"
   ]
  },
  {
   "cell_type": "code",
   "execution_count": 2,
   "metadata": {},
   "outputs": [
    {
     "data": {
      "text/html": [
       "\n",
       "<h3>FractalClient</h3>\n",
       "<ul>\n",
       "  <li><b>Server:   &nbsp; </b>The MolSSI QCArchive Server</li>\n",
       "  <li><b>Address:  &nbsp; </b>https://api.qcarchive.molssi.org:443/</li>\n",
       "  <li><b>Username: &nbsp; </b>None</li>\n",
       "</ul>\n"
      ],
      "text/plain": [
       "FractalClient(server_name='The MolSSI QCArchive Server', address='https://api.qcarchive.molssi.org:443/', username='None')"
      ]
     },
     "execution_count": 2,
     "metadata": {},
     "output_type": "execute_result"
    }
   ],
   "source": [
    "client"
   ]
  },
  {
   "cell_type": "code",
   "execution_count": 3,
   "metadata": {},
   "outputs": [],
   "source": [
    "butane = client.query_molecules(id=['61139','70659'])"
   ]
  },
  {
   "cell_type": "code",
   "execution_count": 7,
   "metadata": {},
   "outputs": [
    {
     "data": {
      "text/plain": [
       "[<Molecule(name='C4H10' formula='C4H10' hash='3bbc6db')>,\n",
       " <Molecule(name='C4H10' formula='C4H10' hash='bb665a3')>]"
      ]
     },
     "execution_count": 7,
     "metadata": {},
     "output_type": "execute_result"
    }
   ],
   "source": [
    "butane"
   ]
  },
  {
   "cell_type": "code",
   "execution_count": 4,
   "metadata": {},
   "outputs": [
    {
     "data": {
      "application/3dmoljs_load.v0": "<div id=\"3dmolviewer_1563891457281954\"  style=\"position: relative; width: 400px; height: 400px\">\n        <p id=\"3dmolwarning_1563891457281954\" style=\"background-color:#ffcccc;color:black\">You appear to be running in JupyterLab (or JavaScript failed to load for some other reason).  You need to install the 3dmol extension: <br>\n        <tt>jupyter labextension install jupyterlab_3dmol</tt></p>\n        </div>\n<script>\n\nvar loadScriptAsync = function(uri){\n  return new Promise((resolve, reject) => {\n    var tag = document.createElement('script');\n    tag.src = uri;\n    tag.async = true;\n    tag.onload = () => {\n      resolve();\n    };\n  var firstScriptTag = document.getElementsByTagName('script')[0];\n  firstScriptTag.parentNode.insertBefore(tag, firstScriptTag);\n});\n};\n\nif(typeof $3Dmolpromise === 'undefined') {\n$3Dmolpromise = null;\n  $3Dmolpromise = loadScriptAsync('https://3dmol.csb.pitt.edu/build/3Dmol.js');\n}\n\nvar viewer_1563891457281954 = null;\nvar warn = document.getElementById(\"3dmolwarning_1563891457281954\");\nif(warn) {\n    warn.parentNode.removeChild(warn);\n}\n$3Dmolpromise.then(function() {\nviewer_1563891457281954 = $3Dmol.createViewer($(\"#3dmolviewer_1563891457281954\"),{backgroundColor:\"white\"});\n\tviewer_1563891457281954.addModel(\"14\\nC4H10\\nC                     0.319142817510    -1.093637470615    -1.564414747816\\nC                    -0.290915848913     1.096758367299     1.567781812448\\nC                     0.092836854842    -0.751249438146    -0.100522397103\\nC                    -0.092794060281     0.751359940931     0.100493429943\\nH                    -0.519879641163    -0.755167725511    -2.180879601800\\nH                     1.228258374974    -0.606784705229    -1.931321629538\\nH                     0.433231534967    -2.173772344395    -1.701604611738\\nH                     0.566770197846     0.756780387768     2.156554230319\\nH                    -1.189142468703     0.614634340052     1.966519364863\\nH                    -0.390704303684     2.178094155841     1.706284173437\\nH                     0.948659303509    -1.102785828023     0.487454535126\\nH                    -0.791724567833    -1.287994152809     0.261736276668\\nH                    -0.960730259026     1.099387769483    -0.471363219252\\nH                     0.783367161017     1.289109832998    -0.280421285847\\n\",\"xyz\");\n\tviewer_1563891457281954.setStyle({\"stick\": {\"radius\": 0.2}, \"sphere\": {\"scale\": 0.3}});\n\tviewer_1563891457281954.zoomTo();\nviewer_1563891457281954.render();\n});\n</script>",
      "text/html": [
       "<div id=\"3dmolviewer_1563891457281954\"  style=\"position: relative; width: 400px; height: 400px\">\n",
       "        <p id=\"3dmolwarning_1563891457281954\" style=\"background-color:#ffcccc;color:black\">You appear to be running in JupyterLab (or JavaScript failed to load for some other reason).  You need to install the 3dmol extension: <br>\n",
       "        <tt>jupyter labextension install jupyterlab_3dmol</tt></p>\n",
       "        </div>\n",
       "<script>\n",
       "\n",
       "var loadScriptAsync = function(uri){\n",
       "  return new Promise((resolve, reject) => {\n",
       "    var tag = document.createElement('script');\n",
       "    tag.src = uri;\n",
       "    tag.async = true;\n",
       "    tag.onload = () => {\n",
       "      resolve();\n",
       "    };\n",
       "  var firstScriptTag = document.getElementsByTagName('script')[0];\n",
       "  firstScriptTag.parentNode.insertBefore(tag, firstScriptTag);\n",
       "});\n",
       "};\n",
       "\n",
       "if(typeof $3Dmolpromise === 'undefined') {\n",
       "$3Dmolpromise = null;\n",
       "  $3Dmolpromise = loadScriptAsync('https://3dmol.csb.pitt.edu/build/3Dmol.js');\n",
       "}\n",
       "\n",
       "var viewer_1563891457281954 = null;\n",
       "var warn = document.getElementById(\"3dmolwarning_1563891457281954\");\n",
       "if(warn) {\n",
       "    warn.parentNode.removeChild(warn);\n",
       "}\n",
       "$3Dmolpromise.then(function() {\n",
       "viewer_1563891457281954 = $3Dmol.createViewer($(\"#3dmolviewer_1563891457281954\"),{backgroundColor:\"white\"});\n",
       "\tviewer_1563891457281954.addModel(\"14\\nC4H10\\nC                     0.319142817510    -1.093637470615    -1.564414747816\\nC                    -0.290915848913     1.096758367299     1.567781812448\\nC                     0.092836854842    -0.751249438146    -0.100522397103\\nC                    -0.092794060281     0.751359940931     0.100493429943\\nH                    -0.519879641163    -0.755167725511    -2.180879601800\\nH                     1.228258374974    -0.606784705229    -1.931321629538\\nH                     0.433231534967    -2.173772344395    -1.701604611738\\nH                     0.566770197846     0.756780387768     2.156554230319\\nH                    -1.189142468703     0.614634340052     1.966519364863\\nH                    -0.390704303684     2.178094155841     1.706284173437\\nH                     0.948659303509    -1.102785828023     0.487454535126\\nH                    -0.791724567833    -1.287994152809     0.261736276668\\nH                    -0.960730259026     1.099387769483    -0.471363219252\\nH                     0.783367161017     1.289109832998    -0.280421285847\\n\",\"xyz\");\n",
       "\tviewer_1563891457281954.setStyle({\"stick\": {\"radius\": 0.2}, \"sphere\": {\"scale\": 0.3}});\n",
       "\tviewer_1563891457281954.zoomTo();\n",
       "viewer_1563891457281954.render();\n",
       "});\n",
       "</script>"
      ]
     },
     "metadata": {},
     "output_type": "display_data"
    },
    {
     "data": {
      "text/plain": [
       "<py3Dmol.view at 0x114e13da0>"
      ]
     },
     "execution_count": 4,
     "metadata": {},
     "output_type": "execute_result"
    }
   ],
   "source": [
    "butane[0].show()"
   ]
  },
  {
   "cell_type": "code",
   "execution_count": 6,
   "metadata": {},
   "outputs": [
    {
     "data": {
      "application/3dmoljs_load.v0": "<div id=\"3dmolviewer_15638914900517519\"  style=\"position: relative; width: 400px; height: 400px\">\n        <p id=\"3dmolwarning_15638914900517519\" style=\"background-color:#ffcccc;color:black\">You appear to be running in JupyterLab (or JavaScript failed to load for some other reason).  You need to install the 3dmol extension: <br>\n        <tt>jupyter labextension install jupyterlab_3dmol</tt></p>\n        </div>\n<script>\n\nvar loadScriptAsync = function(uri){\n  return new Promise((resolve, reject) => {\n    var tag = document.createElement('script');\n    tag.src = uri;\n    tag.async = true;\n    tag.onload = () => {\n      resolve();\n    };\n  var firstScriptTag = document.getElementsByTagName('script')[0];\n  firstScriptTag.parentNode.insertBefore(tag, firstScriptTag);\n});\n};\n\nif(typeof $3Dmolpromise === 'undefined') {\n$3Dmolpromise = null;\n  $3Dmolpromise = loadScriptAsync('https://3dmol.csb.pitt.edu/build/3Dmol.js');\n}\n\nvar viewer_15638914900517519 = null;\nvar warn = document.getElementById(\"3dmolwarning_15638914900517519\");\nif(warn) {\n    warn.parentNode.removeChild(warn);\n}\n$3Dmolpromise.then(function() {\nviewer_15638914900517519 = $3Dmol.createViewer($(\"#3dmolviewer_15638914900517519\"),{backgroundColor:\"white\"});\n\tviewer_15638914900517519.addModel(\"14\\nC4H10\\nC                    -0.367198611826    -1.239066459661    -0.895096896430\\nC                    -0.805813620019     1.122919020599     0.749193187800\\nC                     0.884999946537    -0.552975918533    -0.342565957722\\nC                     0.651313993821     0.705495331858     0.533442172609\\nH                    -1.015245486716    -1.597844274534    -0.068455110112\\nH                    -0.934555683074    -0.548936751218    -1.553770205346\\nH                    -0.065145201911    -2.119653004760    -1.500550906186\\nH                    -1.371403922022     0.320442026938     1.267036676767\\nH                    -1.290856239503     1.369335458265    -0.218296082402\\nH                    -0.835804383885     2.030484305799     1.388465658940\\nH                     1.531851627070    -0.275261564622    -1.203346997941\\nH                     1.452835145270    -1.302370505887     0.251115044454\\nH                     1.190135739619     1.564630144108     0.077322987724\\nH                     1.111261775825     0.537535321291     1.531802741680\\n\",\"xyz\");\n\tviewer_15638914900517519.setStyle({\"stick\": {\"radius\": 0.2}, \"sphere\": {\"scale\": 0.3}});\n\tviewer_15638914900517519.zoomTo();\nviewer_15638914900517519.render();\n});\n</script>",
      "text/html": [
       "<div id=\"3dmolviewer_15638914900517519\"  style=\"position: relative; width: 400px; height: 400px\">\n",
       "        <p id=\"3dmolwarning_15638914900517519\" style=\"background-color:#ffcccc;color:black\">You appear to be running in JupyterLab (or JavaScript failed to load for some other reason).  You need to install the 3dmol extension: <br>\n",
       "        <tt>jupyter labextension install jupyterlab_3dmol</tt></p>\n",
       "        </div>\n",
       "<script>\n",
       "\n",
       "var loadScriptAsync = function(uri){\n",
       "  return new Promise((resolve, reject) => {\n",
       "    var tag = document.createElement('script');\n",
       "    tag.src = uri;\n",
       "    tag.async = true;\n",
       "    tag.onload = () => {\n",
       "      resolve();\n",
       "    };\n",
       "  var firstScriptTag = document.getElementsByTagName('script')[0];\n",
       "  firstScriptTag.parentNode.insertBefore(tag, firstScriptTag);\n",
       "});\n",
       "};\n",
       "\n",
       "if(typeof $3Dmolpromise === 'undefined') {\n",
       "$3Dmolpromise = null;\n",
       "  $3Dmolpromise = loadScriptAsync('https://3dmol.csb.pitt.edu/build/3Dmol.js');\n",
       "}\n",
       "\n",
       "var viewer_15638914900517519 = null;\n",
       "var warn = document.getElementById(\"3dmolwarning_15638914900517519\");\n",
       "if(warn) {\n",
       "    warn.parentNode.removeChild(warn);\n",
       "}\n",
       "$3Dmolpromise.then(function() {\n",
       "viewer_15638914900517519 = $3Dmol.createViewer($(\"#3dmolviewer_15638914900517519\"),{backgroundColor:\"white\"});\n",
       "\tviewer_15638914900517519.addModel(\"14\\nC4H10\\nC                    -0.367198611826    -1.239066459661    -0.895096896430\\nC                    -0.805813620019     1.122919020599     0.749193187800\\nC                     0.884999946537    -0.552975918533    -0.342565957722\\nC                     0.651313993821     0.705495331858     0.533442172609\\nH                    -1.015245486716    -1.597844274534    -0.068455110112\\nH                    -0.934555683074    -0.548936751218    -1.553770205346\\nH                    -0.065145201911    -2.119653004760    -1.500550906186\\nH                    -1.371403922022     0.320442026938     1.267036676767\\nH                    -1.290856239503     1.369335458265    -0.218296082402\\nH                    -0.835804383885     2.030484305799     1.388465658940\\nH                     1.531851627070    -0.275261564622    -1.203346997941\\nH                     1.452835145270    -1.302370505887     0.251115044454\\nH                     1.190135739619     1.564630144108     0.077322987724\\nH                     1.111261775825     0.537535321291     1.531802741680\\n\",\"xyz\");\n",
       "\tviewer_15638914900517519.setStyle({\"stick\": {\"radius\": 0.2}, \"sphere\": {\"scale\": 0.3}});\n",
       "\tviewer_15638914900517519.zoomTo();\n",
       "viewer_15638914900517519.render();\n",
       "});\n",
       "</script>"
      ]
     },
     "metadata": {},
     "output_type": "display_data"
    },
    {
     "data": {
      "text/plain": [
       "<py3Dmol.view at 0x115a82f28>"
      ]
     },
     "execution_count": 6,
     "metadata": {},
     "output_type": "execute_result"
    }
   ],
   "source": [
    "butane[1].show()"
   ]
  },
  {
   "cell_type": "code",
   "execution_count": 9,
   "metadata": {},
   "outputs": [
    {
     "data": {
      "text/plain": [
       "['Config',\n",
       " '__abstractmethods__',\n",
       " '__annotations__',\n",
       " '__class__',\n",
       " '__config__',\n",
       " '__delattr__',\n",
       " '__dict__',\n",
       " '__dir__',\n",
       " '__doc__',\n",
       " '__eq__',\n",
       " '__fields__',\n",
       " '__fields_set__',\n",
       " '__format__',\n",
       " '__ge__',\n",
       " '__get_validators__',\n",
       " '__getattr__',\n",
       " '__getattribute__',\n",
       " '__getstate__',\n",
       " '__gt__',\n",
       " '__hash__',\n",
       " '__init__',\n",
       " '__init_subclass__',\n",
       " '__iter__',\n",
       " '__le__',\n",
       " '__lt__',\n",
       " '__module__',\n",
       " '__ne__',\n",
       " '__new__',\n",
       " '__reduce__',\n",
       " '__reduce_ex__',\n",
       " '__repr__',\n",
       " '__setattr__',\n",
       " '__setstate__',\n",
       " '__sizeof__',\n",
       " '__slots__',\n",
       " '__str__',\n",
       " '__subclasshook__',\n",
       " '__validators__',\n",
       " '__values__',\n",
       " '__weakref__',\n",
       " '_abc_impl',\n",
       " '_calculate_keys',\n",
       " '_custom_root_type',\n",
       " '_decompose_class',\n",
       " '_get_key_factory',\n",
       " '_get_value',\n",
       " '_inertial_tensor',\n",
       " '_iter',\n",
       " '_json_encoder',\n",
       " '_orient_molecule_internal',\n",
       " '_repr_html_',\n",
       " '_schema_cache',\n",
       " 'align',\n",
       " 'atom_labels',\n",
       " 'atomic_numbers',\n",
       " 'comment',\n",
       " 'compare',\n",
       " 'connectivity',\n",
       " 'construct',\n",
       " 'copy',\n",
       " 'dict',\n",
       " 'extras',\n",
       " 'fields',\n",
       " 'fix_com',\n",
       " 'fix_orientation',\n",
       " 'fix_symmetry',\n",
       " 'fragment_charges',\n",
       " 'fragment_multiplicities',\n",
       " 'fragments',\n",
       " 'from_data',\n",
       " 'from_file',\n",
       " 'from_orm',\n",
       " 'geometry',\n",
       " 'get_fragment',\n",
       " 'get_hash',\n",
       " 'get_molecular_formula',\n",
       " 'hash_fields',\n",
       " 'id',\n",
       " 'identifiers',\n",
       " 'json',\n",
       " 'json_dict',\n",
       " 'mass_numbers',\n",
       " 'masses',\n",
       " 'measure',\n",
       " 'min_zero',\n",
       " 'molecular_charge',\n",
       " 'molecular_multiplicity',\n",
       " 'must_be_3n',\n",
       " 'must_be_n',\n",
       " 'must_be_n_frag',\n",
       " 'name',\n",
       " 'nelectrons',\n",
       " 'nuclear_repulsion_energy',\n",
       " 'orient_molecule',\n",
       " 'parse_file',\n",
       " 'parse_obj',\n",
       " 'parse_raw',\n",
       " 'populate_real',\n",
       " 'pretty_print',\n",
       " 'provenance',\n",
       " 'real',\n",
       " 'schema',\n",
       " 'schema_json',\n",
       " 'schema_name',\n",
       " 'schema_version',\n",
       " 'scramble',\n",
       " 'show',\n",
       " 'symbols',\n",
       " 'to_file',\n",
       " 'to_string',\n",
       " 'update_forward_refs',\n",
       " 'validate']"
      ]
     },
     "execution_count": 9,
     "metadata": {},
     "output_type": "execute_result"
    }
   ],
   "source": [
    "dir(butane[0])"
   ]
  },
  {
   "cell_type": "code",
   "execution_count": 13,
   "metadata": {},
   "outputs": [
    {
     "data": {
      "text/plain": [
       "[6, 6, 6, 6, 1, 1, 1, 1, 1, 1, 1, 1, 1, 1]"
      ]
     },
     "execution_count": 13,
     "metadata": {},
     "output_type": "execute_result"
    }
   ],
   "source": [
    "butane[0].atomic_numbers"
   ]
  },
  {
   "cell_type": "code",
   "execution_count": 29,
   "metadata": {},
   "outputs": [],
   "source": [
    "butane_geometries = [butane[0].geometry.copy(), butane[1].geometry.copy()]"
   ]
  },
  {
   "cell_type": "code",
   "execution_count": 15,
   "metadata": {},
   "outputs": [
    {
     "data": {
      "text/plain": [
       "['C', 'C', 'C', 'C', 'H', 'H', 'H', 'H', 'H', 'H', 'H', 'H', 'H', 'H']"
      ]
     },
     "execution_count": 15,
     "metadata": {},
     "output_type": "execute_result"
    }
   ],
   "source": [
    "butane[0].symbols"
   ]
  },
  {
   "cell_type": "code",
   "execution_count": 30,
   "metadata": {},
   "outputs": [
    {
     "data": {
      "text/plain": [
       "[array([[ 0.60309252, -2.0666753 , -2.95631542],\n",
       "        [-0.54975128,  2.07257294,  2.96267825],\n",
       "        [ 0.17543623, -1.41965569, -0.1899598 ],\n",
       "        [-0.17535536,  1.41986451,  0.18990506],\n",
       "        [-0.98243014, -1.42706018, -4.12126516],\n",
       "        [ 2.32107194, -1.14665691, -3.64966894],\n",
       "        [ 0.81868895, -4.10783439, -3.21556669],\n",
       "        [ 1.07104045,  1.43010767,  4.07529687],\n",
       "        [-2.24715359,  1.16149057,  3.71618302],\n",
       "        [-0.73832413,  4.11600143,  3.22440978],\n",
       "        [ 1.79270627, -2.08396319,  0.92115557],\n",
       "        [-1.4961426 , -2.4339562 ,  0.49460988],\n",
       "        [-1.81551707,  2.07754179, -0.89074739],\n",
       "        [ 1.48034939,  2.43606453, -0.52991943]]),\n",
       " array([[-0.69390481, -2.34149626, -1.69148799],\n",
       "        [-1.52276705,  2.12200941,  1.41576994],\n",
       "        [ 1.67240752, -1.04497304, -0.64735584],\n",
       "        [ 1.23080507,  1.33319296,  1.00805961],\n",
       "        [-1.91853592, -3.01948807, -0.12936141],\n",
       "        [-1.76605429, -1.03734012, -2.93620015],\n",
       "        [-0.12310659, -4.00556366, -2.83563025],\n",
       "        [-2.59157782,  0.60554767,  2.39435231],\n",
       "        [-2.43936476,  2.58766899, -0.41251981],\n",
       "        [-1.57944138,  3.83705924,  2.62381983],\n",
       "        [ 2.89478004, -0.52016897, -2.27399626],\n",
       "        [ 2.74546053, -2.46112357,  0.47453866],\n",
       "        [ 2.2490306 ,  2.95672246,  0.14611927],\n",
       "        [ 2.09998041,  1.01579454,  2.89468766]])]"
      ]
     },
     "execution_count": 30,
     "metadata": {},
     "output_type": "execute_result"
    }
   ],
   "source": [
    "butane_geometries"
   ]
  },
  {
   "cell_type": "code",
   "execution_count": 20,
   "metadata": {},
   "outputs": [],
   "source": [
    "def calculate_distance(rA, rB):\n",
    "    \"\"\"Calculate the distance between points A and B\"\"\"\n",
    "    dist_vec = (rA - rB)\n",
    "    distance = np.linalg.norm(dist_vec)\n",
    "    return distance"
   ]
  },
  {
   "cell_type": "code",
   "execution_count": 21,
   "metadata": {},
   "outputs": [],
   "source": [
    "def build_bond_list(coords,max_bond=1.55,min_bond=0): # qc archive geomitries are in bohr not angstrom \n",
    "    num_atoms = len(coords)\n",
    "    bonds = {}\n",
    "    for atom1 in range(num_atoms):\n",
    "        for atom2 in range(atom1,num_atoms):\n",
    "            distance = calculate_distance(coords[atom1],coords[atom2])\n",
    "            if distance > min_bond and distance < max_bond:\n",
    "                bonds[(atom1,atom2)] = distance\n",
    "    return bonds"
   ]
  },
  {
   "cell_type": "code",
   "execution_count": 31,
   "metadata": {},
   "outputs": [],
   "source": [
    "bond_list = build_bond_list(butane_geometries[0])"
   ]
  },
  {
   "cell_type": "code",
   "execution_count": 32,
   "metadata": {},
   "outputs": [
    {
     "data": {
      "text/plain": [
       "{}"
      ]
     },
     "execution_count": 32,
     "metadata": {},
     "output_type": "execute_result"
    }
   ],
   "source": [
    "bond_list"
   ]
  },
  {
   "cell_type": "code",
   "execution_count": 27,
   "metadata": {},
   "outputs": [],
   "source": [
    "import qcelemental"
   ]
  },
  {
   "cell_type": "code",
   "execution_count": 28,
   "metadata": {},
   "outputs": [
    {
     "name": "stdout",
     "output_type": "stream",
     "text": [
      "1.8897261254578281\n"
     ]
    }
   ],
   "source": [
    "angstrom_to_bohr = qcelemental.constants.conversion_factor('angstrom','bohr') # this pulls the converion factor from\n",
    "                                                                              # angtroms to bohr\n",
    "print(angstrom_to_bohr)"
   ]
  },
  {
   "cell_type": "code",
   "execution_count": 33,
   "metadata": {},
   "outputs": [
    {
     "name": "stdout",
     "output_type": "stream",
     "text": [
      "[ 0.60309252 -2.0666753  -2.95631542]\n",
      "[-0.54975128  2.07257294  2.96267825]\n"
     ]
    }
   ],
   "source": [
    "atom1 = butane_geometries[0][0]\n",
    "atom2 = butane_geometries[0][1]\n",
    "print(atom1)\n",
    "print(atom2)"
   ]
  },
  {
   "cell_type": "code",
   "execution_count": 34,
   "metadata": {},
   "outputs": [],
   "source": [
    "measured_distance = calculate_distance(atom1,atom2)"
   ]
  },
  {
   "cell_type": "code",
   "execution_count": 35,
   "metadata": {},
   "outputs": [
    {
     "name": "stdout",
     "output_type": "stream",
     "text": [
      "7.314158248564329\n"
     ]
    }
   ],
   "source": [
    "print(measured_distance)"
   ]
  },
  {
   "cell_type": "code",
   "execution_count": 36,
   "metadata": {},
   "outputs": [
    {
     "data": {
      "text/plain": [
       "7.31415824856433"
      ]
     },
     "execution_count": 36,
     "metadata": {},
     "output_type": "execute_result"
    }
   ],
   "source": [
    "butane[0].measure([0,1]) # if our cistance function prints the same as this function the distanc function is correct"
   ]
  },
  {
   "cell_type": "code",
   "execution_count": 38,
   "metadata": {},
   "outputs": [],
   "source": [
    "# use calculate distnace to measure the distance between atom3 and atom10\n",
    "distance = calculate_distance(butane_geometries[1][2],butane_geometries[1][9])"
   ]
  },
  {
   "cell_type": "code",
   "execution_count": 39,
   "metadata": {},
   "outputs": [
    {
     "name": "stdout",
     "output_type": "stream",
     "text": [
      "6.71634950813261\n"
     ]
    }
   ],
   "source": [
    "print(distance)"
   ]
  },
  {
   "cell_type": "code",
   "execution_count": 41,
   "metadata": {},
   "outputs": [
    {
     "name": "stdout",
     "output_type": "stream",
     "text": [
      "6.71634950813261\n"
     ]
    }
   ],
   "source": [
    "print(butane[1].measure([2,9]))"
   ]
  },
  {
   "cell_type": "code",
   "execution_count": 42,
   "metadata": {},
   "outputs": [],
   "source": [
    "bond_list = build_bond_list(butane_geometries[0],max_bond = 2.93)"
   ]
  },
  {
   "cell_type": "code",
   "execution_count": 43,
   "metadata": {},
   "outputs": [
    {
     "name": "stdout",
     "output_type": "stream",
     "text": [
      "{(0, 2): 2.873020656801253, (0, 4): 2.068839651551603, (0, 5): 2.068484041315794, (0, 6): 2.068821759435787, (1, 3): 2.873059651780396, (1, 7): 2.068247482474781, (1, 8): 2.0685780442929644, (1, 9): 2.0687346633381822, (2, 3): 2.8862132661474598, (2, 10): 2.0715801221019885, (2, 11): 2.0716218178677623, (3, 12): 2.0713472807014583, (3, 13): 2.071754810836534}\n"
     ]
    }
   ],
   "source": [
    "print(bond_list)"
   ]
  },
  {
   "cell_type": "code",
   "execution_count": 44,
   "metadata": {},
   "outputs": [
    {
     "data": {
      "text/plain": [
       "{(0, 2): 2.873020656801253,\n",
       " (0, 4): 2.068839651551603,\n",
       " (0, 5): 2.068484041315794,\n",
       " (0, 6): 2.068821759435787,\n",
       " (1, 3): 2.873059651780396,\n",
       " (1, 7): 2.068247482474781,\n",
       " (1, 8): 2.0685780442929644,\n",
       " (1, 9): 2.0687346633381822,\n",
       " (2, 3): 2.8862132661474598,\n",
       " (2, 10): 2.0715801221019885,\n",
       " (2, 11): 2.0716218178677623,\n",
       " (3, 12): 2.0713472807014583,\n",
       " (3, 13): 2.071754810836534}"
      ]
     },
     "execution_count": 44,
     "metadata": {},
     "output_type": "execute_result"
    }
   ],
   "source": [
    "bond_list"
   ]
  },
  {
   "cell_type": "code",
   "execution_count": 46,
   "metadata": {},
   "outputs": [
    {
     "data": {
      "text/plain": [
       "[(0, 2, 1.0),\n",
       " (0, 4, 1.0),\n",
       " (0, 5, 1.0),\n",
       " (0, 6, 1.0),\n",
       " (1, 3, 1.0),\n",
       " (1, 7, 1.0),\n",
       " (1, 8, 1.0),\n",
       " (1, 9, 1.0),\n",
       " (2, 3, 1.0),\n",
       " (2, 10, 1.0),\n",
       " (2, 11, 1.0),\n",
       " (3, 12, 1.0),\n",
       " (3, 13, 1.0)]"
      ]
     },
     "execution_count": 46,
     "metadata": {},
     "output_type": "execute_result"
    }
   ],
   "source": [
    "butane[0].connectivity # atom1 atom2 bond order"
   ]
  },
  {
   "cell_type": "code",
   "execution_count": 50,
   "metadata": {},
   "outputs": [],
   "source": [
    "# let's see what the anwser is for a molecule we can't pull the connectivety for\n",
    "# use qcportla to acsses a geometry optimization calculation\n",
    "# us query_proceures\n",
    "# id = 2658710\n",
    "\n",
    "optimization = client.query_procedures(id='2658710')"
   ]
  },
  {
   "cell_type": "code",
   "execution_count": 48,
   "metadata": {},
   "outputs": [
    {
     "data": {
      "text/plain": [
       "[<OptimizationRecord(id='2658710' status='COMPLETE')>]"
      ]
     },
     "execution_count": 48,
     "metadata": {},
     "output_type": "execute_result"
    }
   ],
   "source": [
    "optimization"
   ]
  },
  {
   "cell_type": "code",
   "execution_count": 54,
   "metadata": {},
   "outputs": [],
   "source": [
    "opt = optimization[0]"
   ]
  },
  {
   "cell_type": "code",
   "execution_count": 55,
   "metadata": {},
   "outputs": [],
   "source": [
    "initial = opt.get_initial_molecule()"
   ]
  },
  {
   "cell_type": "code",
   "execution_count": 56,
   "metadata": {},
   "outputs": [
    {
     "data": {
      "application/3dmoljs_load.v0": "<div id=\"3dmolviewer_1563894679362879\"  style=\"position: relative; width: 400px; height: 400px\">\n        <p id=\"3dmolwarning_1563894679362879\" style=\"background-color:#ffcccc;color:black\">You appear to be running in JupyterLab (or JavaScript failed to load for some other reason).  You need to install the 3dmol extension: <br>\n        <tt>jupyter labextension install jupyterlab_3dmol</tt></p>\n        </div>\n<script>\n\nvar loadScriptAsync = function(uri){\n  return new Promise((resolve, reject) => {\n    var tag = document.createElement('script');\n    tag.src = uri;\n    tag.async = true;\n    tag.onload = () => {\n      resolve();\n    };\n  var firstScriptTag = document.getElementsByTagName('script')[0];\n  firstScriptTag.parentNode.insertBefore(tag, firstScriptTag);\n});\n};\n\nif(typeof $3Dmolpromise === 'undefined') {\n$3Dmolpromise = null;\n  $3Dmolpromise = loadScriptAsync('https://3dmol.csb.pitt.edu/build/3Dmol.js');\n}\n\nvar viewer_1563894679362879 = null;\nvar warn = document.getElementById(\"3dmolwarning_1563894679362879\");\nif(warn) {\n    warn.parentNode.removeChild(warn);\n}\n$3Dmolpromise.then(function() {\nviewer_1563894679362879 = $3Dmol.createViewer($(\"#3dmolviewer_1563894679362879\"),{backgroundColor:\"white\"});\n\tviewer_1563894679362879.addModel(\"72\\nC54H18\\nC                     1.219221001901    -4.550194001216    -2.133023000369\\nC                     1.219221001901    -4.550194001216    -0.712023002632\\nC                     1.219221001901     4.550194001216    -2.133023000369\\nC                     1.219221001901     4.550194001216    -0.712023002632\\nC                     2.355354000793    -4.079591998090    -4.266046000738\\nC                     2.355354000793    -4.079591998090    -2.845045997709\\nC                     2.355354000793    -4.079591998090     0.000000000000\\nC                     2.355354000793    -4.079591998090     1.420999997737\\nC                     2.355354000793     4.079591998090    -4.266046000738\\nC                     2.355354000793     4.079591998090    -2.845045997709\\nC                     2.355354000793     4.079591998090     0.000000000000\\nC                     2.355354000793     4.079591998090     1.420999997737\\nC                     3.330972999315    -3.330972999315    -6.399070001252\\nC                     3.330972999315    -3.330972999315    -4.978069998223\\nC                     3.330972999315    -3.330972999315    -2.133023000369\\nC                     3.330972999315    -3.330972999315    -0.712023002632\\nC                     3.330972999315    -3.330972999315     2.133023000369\\nC                     3.330972999315    -3.330972999315     3.554022998107\\nC                     3.330972999315     3.330972999315    -6.399070001252\\nC                     3.330972999315     3.330972999315    -4.978069998223\\nC                     3.330972999315     3.330972999315    -2.133023000369\\nC                     3.330972999315     3.330972999315    -0.712023002632\\nC                     3.330972999315     3.330972999315     2.133023000369\\nC                     3.330972999315     3.330972999315     3.554022998107\\nC                     4.079591998090    -2.355354000793    -7.111092998592\\nC                     4.079591998090    -2.355354000793    -4.266046000738\\nC                     4.079591998090    -2.355354000793    -2.845045997709\\nC                     4.079591998090    -2.355354000793     0.000000000000\\nC                     4.079591998090    -2.355354000793     1.420999997737\\nC                     4.079591998090    -2.355354000793     4.266046000738\\nC                     4.079591998090     2.355354000793    -7.111092998592\\nC                     4.079591998090     2.355354000793    -4.266046000738\\nC                     4.079591998090     2.355354000793    -2.845045997709\\nC                     4.079591998090     2.355354000793     0.000000000000\\nC                     4.079591998090     2.355354000793     1.420999997737\\nC                     4.079591998090     2.355354000793     4.266046000738\\nC                     4.550194001216    -1.219221001901    -6.399070001252\\nC                     4.550194001216    -1.219221001901    -4.978069998223\\nC                     4.550194001216    -1.219221001901    -2.133023000369\\nC                     4.550194001216    -1.219221001901    -0.712023002632\\nC                     4.550194001216    -1.219221001901     2.133023000369\\nC                     4.550194001216    -1.219221001901     3.554022998107\\nC                     4.550194001216     1.219221001901    -6.399070001252\\nC                     4.550194001216     1.219221001901    -4.978069998223\\nC                     4.550194001216     1.219221001901    -2.133023000369\\nC                     4.550194001216     1.219221001901    -0.712023002632\\nC                     4.550194001216     1.219221001901     2.133023000369\\nC                     4.550194001216     1.219221001901     3.554022998107\\nC                     4.710707001441     0.000000000000    -7.111092998592\\nC                     4.710707001441     0.000000000000    -4.266046000738\\nC                     4.710707001441     0.000000000000    -2.845045997709\\nC                     4.710707001441     0.000000000000     0.000000000000\\nC                     4.710707001441     0.000000000000     1.420999997737\\nC                     4.710707001441     0.000000000000     4.266046000738\\nH                     0.288683440765    -4.672701218998    -2.676455361369\\nH                     0.288683440765    -4.672701218998    -0.168590641632\\nH                     0.288683440765     4.672701218998    -2.676455361369\\nH                     0.288683440765     4.672701218998    -0.168590641632\\nH                     1.488231459635    -4.438766150819    -4.809478912082\\nH                     1.488231147420    -4.438766277821     1.964432337570\\nH                     1.488231459635     4.438766150819    -4.809478912082\\nH                     1.488231147420     4.438766277821     1.964432337570\\nH                     2.586357829400    -3.902336471225    -6.942502547464\\nH                     2.586357829400    -3.902336471225     4.097455549610\\nH                     2.586357829400     3.902336471225    -6.942502547464\\nH                     2.586357829400     3.902336471225     4.097455549610\\nH                     4.079591998090    -2.355354000793    -8.195632949853\\nH                     4.079591998090    -2.355354000793     5.350585951999\\nH                     4.079591998090     2.355354000793    -8.195632949853\\nH                     4.079591998090     2.355354000793     5.350585951999\\nH                     4.710707001441     0.000000000000    -8.195632949853\\nH                     4.710707001441     0.000000000000     5.350585951999\\n\",\"xyz\");\n\tviewer_1563894679362879.setStyle({\"stick\": {\"radius\": 0.2}, \"sphere\": {\"scale\": 0.3}});\n\tviewer_1563894679362879.zoomTo();\nviewer_1563894679362879.render();\n});\n</script>",
      "text/html": [
       "<div id=\"3dmolviewer_1563894679362879\"  style=\"position: relative; width: 400px; height: 400px\">\n",
       "        <p id=\"3dmolwarning_1563894679362879\" style=\"background-color:#ffcccc;color:black\">You appear to be running in JupyterLab (or JavaScript failed to load for some other reason).  You need to install the 3dmol extension: <br>\n",
       "        <tt>jupyter labextension install jupyterlab_3dmol</tt></p>\n",
       "        </div>\n",
       "<script>\n",
       "\n",
       "var loadScriptAsync = function(uri){\n",
       "  return new Promise((resolve, reject) => {\n",
       "    var tag = document.createElement('script');\n",
       "    tag.src = uri;\n",
       "    tag.async = true;\n",
       "    tag.onload = () => {\n",
       "      resolve();\n",
       "    };\n",
       "  var firstScriptTag = document.getElementsByTagName('script')[0];\n",
       "  firstScriptTag.parentNode.insertBefore(tag, firstScriptTag);\n",
       "});\n",
       "};\n",
       "\n",
       "if(typeof $3Dmolpromise === 'undefined') {\n",
       "$3Dmolpromise = null;\n",
       "  $3Dmolpromise = loadScriptAsync('https://3dmol.csb.pitt.edu/build/3Dmol.js');\n",
       "}\n",
       "\n",
       "var viewer_1563894679362879 = null;\n",
       "var warn = document.getElementById(\"3dmolwarning_1563894679362879\");\n",
       "if(warn) {\n",
       "    warn.parentNode.removeChild(warn);\n",
       "}\n",
       "$3Dmolpromise.then(function() {\n",
       "viewer_1563894679362879 = $3Dmol.createViewer($(\"#3dmolviewer_1563894679362879\"),{backgroundColor:\"white\"});\n",
       "\tviewer_1563894679362879.addModel(\"72\\nC54H18\\nC                     1.219221001901    -4.550194001216    -2.133023000369\\nC                     1.219221001901    -4.550194001216    -0.712023002632\\nC                     1.219221001901     4.550194001216    -2.133023000369\\nC                     1.219221001901     4.550194001216    -0.712023002632\\nC                     2.355354000793    -4.079591998090    -4.266046000738\\nC                     2.355354000793    -4.079591998090    -2.845045997709\\nC                     2.355354000793    -4.079591998090     0.000000000000\\nC                     2.355354000793    -4.079591998090     1.420999997737\\nC                     2.355354000793     4.079591998090    -4.266046000738\\nC                     2.355354000793     4.079591998090    -2.845045997709\\nC                     2.355354000793     4.079591998090     0.000000000000\\nC                     2.355354000793     4.079591998090     1.420999997737\\nC                     3.330972999315    -3.330972999315    -6.399070001252\\nC                     3.330972999315    -3.330972999315    -4.978069998223\\nC                     3.330972999315    -3.330972999315    -2.133023000369\\nC                     3.330972999315    -3.330972999315    -0.712023002632\\nC                     3.330972999315    -3.330972999315     2.133023000369\\nC                     3.330972999315    -3.330972999315     3.554022998107\\nC                     3.330972999315     3.330972999315    -6.399070001252\\nC                     3.330972999315     3.330972999315    -4.978069998223\\nC                     3.330972999315     3.330972999315    -2.133023000369\\nC                     3.330972999315     3.330972999315    -0.712023002632\\nC                     3.330972999315     3.330972999315     2.133023000369\\nC                     3.330972999315     3.330972999315     3.554022998107\\nC                     4.079591998090    -2.355354000793    -7.111092998592\\nC                     4.079591998090    -2.355354000793    -4.266046000738\\nC                     4.079591998090    -2.355354000793    -2.845045997709\\nC                     4.079591998090    -2.355354000793     0.000000000000\\nC                     4.079591998090    -2.355354000793     1.420999997737\\nC                     4.079591998090    -2.355354000793     4.266046000738\\nC                     4.079591998090     2.355354000793    -7.111092998592\\nC                     4.079591998090     2.355354000793    -4.266046000738\\nC                     4.079591998090     2.355354000793    -2.845045997709\\nC                     4.079591998090     2.355354000793     0.000000000000\\nC                     4.079591998090     2.355354000793     1.420999997737\\nC                     4.079591998090     2.355354000793     4.266046000738\\nC                     4.550194001216    -1.219221001901    -6.399070001252\\nC                     4.550194001216    -1.219221001901    -4.978069998223\\nC                     4.550194001216    -1.219221001901    -2.133023000369\\nC                     4.550194001216    -1.219221001901    -0.712023002632\\nC                     4.550194001216    -1.219221001901     2.133023000369\\nC                     4.550194001216    -1.219221001901     3.554022998107\\nC                     4.550194001216     1.219221001901    -6.399070001252\\nC                     4.550194001216     1.219221001901    -4.978069998223\\nC                     4.550194001216     1.219221001901    -2.133023000369\\nC                     4.550194001216     1.219221001901    -0.712023002632\\nC                     4.550194001216     1.219221001901     2.133023000369\\nC                     4.550194001216     1.219221001901     3.554022998107\\nC                     4.710707001441     0.000000000000    -7.111092998592\\nC                     4.710707001441     0.000000000000    -4.266046000738\\nC                     4.710707001441     0.000000000000    -2.845045997709\\nC                     4.710707001441     0.000000000000     0.000000000000\\nC                     4.710707001441     0.000000000000     1.420999997737\\nC                     4.710707001441     0.000000000000     4.266046000738\\nH                     0.288683440765    -4.672701218998    -2.676455361369\\nH                     0.288683440765    -4.672701218998    -0.168590641632\\nH                     0.288683440765     4.672701218998    -2.676455361369\\nH                     0.288683440765     4.672701218998    -0.168590641632\\nH                     1.488231459635    -4.438766150819    -4.809478912082\\nH                     1.488231147420    -4.438766277821     1.964432337570\\nH                     1.488231459635     4.438766150819    -4.809478912082\\nH                     1.488231147420     4.438766277821     1.964432337570\\nH                     2.586357829400    -3.902336471225    -6.942502547464\\nH                     2.586357829400    -3.902336471225     4.097455549610\\nH                     2.586357829400     3.902336471225    -6.942502547464\\nH                     2.586357829400     3.902336471225     4.097455549610\\nH                     4.079591998090    -2.355354000793    -8.195632949853\\nH                     4.079591998090    -2.355354000793     5.350585951999\\nH                     4.079591998090     2.355354000793    -8.195632949853\\nH                     4.079591998090     2.355354000793     5.350585951999\\nH                     4.710707001441     0.000000000000    -8.195632949853\\nH                     4.710707001441     0.000000000000     5.350585951999\\n\",\"xyz\");\n",
       "\tviewer_1563894679362879.setStyle({\"stick\": {\"radius\": 0.2}, \"sphere\": {\"scale\": 0.3}});\n",
       "\tviewer_1563894679362879.zoomTo();\n",
       "viewer_1563894679362879.render();\n",
       "});\n",
       "</script>"
      ]
     },
     "metadata": {},
     "output_type": "display_data"
    },
    {
     "data": {
      "text/plain": [
       "<py3Dmol.view at 0x115bd12b0>"
      ]
     },
     "execution_count": 56,
     "metadata": {},
     "output_type": "execute_result"
    }
   ],
   "source": [
    "initial.show()"
   ]
  },
  {
   "cell_type": "code",
   "execution_count": 59,
   "metadata": {},
   "outputs": [
    {
     "data": {
      "application/3dmoljs_load.v0": "<div id=\"3dmolviewer_1563894836417218\"  style=\"position: relative; width: 400px; height: 400px\">\n        <p id=\"3dmolwarning_1563894836417218\" style=\"background-color:#ffcccc;color:black\">You appear to be running in JupyterLab (or JavaScript failed to load for some other reason).  You need to install the 3dmol extension: <br>\n        <tt>jupyter labextension install jupyterlab_3dmol</tt></p>\n        </div>\n<script>\n\nvar loadScriptAsync = function(uri){\n  return new Promise((resolve, reject) => {\n    var tag = document.createElement('script');\n    tag.src = uri;\n    tag.async = true;\n    tag.onload = () => {\n      resolve();\n    };\n  var firstScriptTag = document.getElementsByTagName('script')[0];\n  firstScriptTag.parentNode.insertBefore(tag, firstScriptTag);\n});\n};\n\nif(typeof $3Dmolpromise === 'undefined') {\n$3Dmolpromise = null;\n  $3Dmolpromise = loadScriptAsync('https://3dmol.csb.pitt.edu/build/3Dmol.js');\n}\n\nvar viewer_1563894836417218 = null;\nvar warn = document.getElementById(\"3dmolwarning_1563894836417218\");\nif(warn) {\n    warn.parentNode.removeChild(warn);\n}\n$3Dmolpromise.then(function() {\nviewer_1563894836417218 = $3Dmol.createViewer($(\"#3dmolviewer_1563894836417218\"),{backgroundColor:\"white\"});\n\tviewer_1563894836417218.addModel(\"72\\nC54H18\\nC                     2.903604033453    -6.112482329788    -2.100940515408\\nC                     2.903603382565    -6.112487304054    -0.744107403214\\nC                     2.903596069336     6.112511984879    -2.100938033567\\nC                     2.903596667306     6.112507587416    -0.744102465991\\nC                     3.136053574199    -4.883593784133    -4.251905914701\\nC                     3.094346715762    -4.901845079670    -2.857595519928\\nC                     3.094346244794    -4.901850524904     0.012547606598\\nC                     3.136053314903    -4.883599001821     1.406858858638\\nC                     3.136048917440     4.883603912585    -4.251916942755\\nC                     3.094339847042     4.901880291122    -2.857602991911\\nC                     3.094340503222     4.901874110332     0.012560248641\\nC                     3.136049510118     4.883598917152     1.406873167590\\nC                     3.394645977308    -3.657952650851    -6.402321604708\\nC                     3.305058894969    -3.696675976424    -4.965192756557\\nC                     3.244196885152    -3.681150049357    -2.134435247342\\nC                     3.244196472393    -3.681155536925    -0.710614264104\\nC                     3.305058720341    -3.696684210421     2.120150600675\\nC                     3.394647019788    -3.657948168720     3.557280274342\\nC                     3.394645098874     3.657915402067    -6.402351513804\\nC                     3.305054756803     3.696694725172    -4.965221093997\\nC                     3.244191889719     3.681190118655    -2.134434236613\\nC                     3.244192498273     3.681183837322    -0.710607638805\\nC                     3.305055450026     3.696686337713     2.120171116875\\nC                     3.394644987747     3.657920709714     3.557301145091\\nC                     3.524256092076    -2.487901551798    -7.077124981145\\nC                     3.388666317162    -2.459158958219    -4.260200068965\\nC                     3.368221169328    -2.456039649066    -2.840840076072\\nC                     3.368220878281    -2.456048248196    -0.004206440231\\nC                     3.388666089616    -2.459169414761     1.415155076692\\nC                     3.524256965218    -2.487895963687     4.232082788220\\nC                     3.524255107806     2.487850898956    -7.077141517933\\nC                     3.388663512523     2.459188676811    -4.260215658525\\nC                     3.368217973098     2.456082904011    -2.840847860268\\nC                     3.368218475816     2.456073357654    -0.004197581805\\nC                     3.388664046992     2.459177987431     1.415168443709\\nC                     3.524254938470     2.487857090329     4.232090074990\\nC                     3.542570200948    -1.219005732612    -6.395645753732\\nC                     3.475755222683    -1.228237890524    -4.970401987603\\nC                     3.430567082005    -1.228942601107    -2.131991554609\\nC                     3.430566896793    -1.228951142027    -0.713057237156\\nC                     3.475755317935    -1.228248775699     2.125359625341\\nC                     3.542570883587    -1.219000657803     3.550604449824\\nC                     3.542570624290     1.218954391839    -6.395668630062\\nC                     3.475754026742     1.228263481534    -4.970422429718\\nC                     3.430565468014     1.228989830173    -2.131990358668\\nC                     3.430565759062     1.228980892370    -0.713052998446\\nC                     3.475754375999     1.228252421730     2.125372817729\\nC                     3.542570597831     1.218959440190     3.550617933260\\nC                     3.589719842793    -0.000035147950    -7.072735233928\\nC                     3.474337885025     0.000020886625    -4.259012955145\\nC                     3.454492755355     0.000024950705    -2.840866058673\\nC                     3.454492877066     0.000012366871    -0.004179970787\\nC                     3.474338075529     0.000007260311     1.413967179690\\nC                     3.589720234384    -0.000026088436     4.227689553725\\nH                     2.754263255338    -7.040868584476    -2.642719261126\\nH                     2.754262371612    -7.040874913436    -0.202331869602\\nH                     2.754253121594     7.040900557363    -2.642711106505\\nH                     2.754253973569     7.040894381865    -0.202325625311\\nH                     3.023176751931    -5.816498889402    -4.796678967331\\nH                     3.023176122210    -5.816504429888     1.951630186150\\nH                     3.023170380637     5.816506133838    -4.796692419016\\nH                     3.023171222029     5.816500365807     1.951650501263\\nH                     3.354201333521    -4.595760440099    -6.946996256836\\nH                     3.354203053347    -4.595753105703     4.101959165179\\nH                     3.354201846823     4.595710247640    -6.947048449584\\nH                     3.354201481691     4.595718031837     4.101994244336\\nH                     3.628610462449    -2.494167650277    -8.157316857894\\nH                     3.628611483761    -2.494160733931     5.312275024810\\nH                     3.628609255925     2.494108869272    -8.157333071884\\nH                     3.628609203008     2.494116283045     5.312281745360\\nH                     3.698094795777    -0.000047170857    -8.153506247508\\nH                     3.698095055074    -0.000032935990     5.308459895251\\n\",\"xyz\");\n\tviewer_1563894836417218.setStyle({\"stick\": {\"radius\": 0.2}, \"sphere\": {\"scale\": 0.3}});\n\tviewer_1563894836417218.zoomTo();\nviewer_1563894836417218.render();\n});\n</script>",
      "text/html": [
       "<div id=\"3dmolviewer_1563894836417218\"  style=\"position: relative; width: 400px; height: 400px\">\n",
       "        <p id=\"3dmolwarning_1563894836417218\" style=\"background-color:#ffcccc;color:black\">You appear to be running in JupyterLab (or JavaScript failed to load for some other reason).  You need to install the 3dmol extension: <br>\n",
       "        <tt>jupyter labextension install jupyterlab_3dmol</tt></p>\n",
       "        </div>\n",
       "<script>\n",
       "\n",
       "var loadScriptAsync = function(uri){\n",
       "  return new Promise((resolve, reject) => {\n",
       "    var tag = document.createElement('script');\n",
       "    tag.src = uri;\n",
       "    tag.async = true;\n",
       "    tag.onload = () => {\n",
       "      resolve();\n",
       "    };\n",
       "  var firstScriptTag = document.getElementsByTagName('script')[0];\n",
       "  firstScriptTag.parentNode.insertBefore(tag, firstScriptTag);\n",
       "});\n",
       "};\n",
       "\n",
       "if(typeof $3Dmolpromise === 'undefined') {\n",
       "$3Dmolpromise = null;\n",
       "  $3Dmolpromise = loadScriptAsync('https://3dmol.csb.pitt.edu/build/3Dmol.js');\n",
       "}\n",
       "\n",
       "var viewer_1563894836417218 = null;\n",
       "var warn = document.getElementById(\"3dmolwarning_1563894836417218\");\n",
       "if(warn) {\n",
       "    warn.parentNode.removeChild(warn);\n",
       "}\n",
       "$3Dmolpromise.then(function() {\n",
       "viewer_1563894836417218 = $3Dmol.createViewer($(\"#3dmolviewer_1563894836417218\"),{backgroundColor:\"white\"});\n",
       "\tviewer_1563894836417218.addModel(\"72\\nC54H18\\nC                     2.903604033453    -6.112482329788    -2.100940515408\\nC                     2.903603382565    -6.112487304054    -0.744107403214\\nC                     2.903596069336     6.112511984879    -2.100938033567\\nC                     2.903596667306     6.112507587416    -0.744102465991\\nC                     3.136053574199    -4.883593784133    -4.251905914701\\nC                     3.094346715762    -4.901845079670    -2.857595519928\\nC                     3.094346244794    -4.901850524904     0.012547606598\\nC                     3.136053314903    -4.883599001821     1.406858858638\\nC                     3.136048917440     4.883603912585    -4.251916942755\\nC                     3.094339847042     4.901880291122    -2.857602991911\\nC                     3.094340503222     4.901874110332     0.012560248641\\nC                     3.136049510118     4.883598917152     1.406873167590\\nC                     3.394645977308    -3.657952650851    -6.402321604708\\nC                     3.305058894969    -3.696675976424    -4.965192756557\\nC                     3.244196885152    -3.681150049357    -2.134435247342\\nC                     3.244196472393    -3.681155536925    -0.710614264104\\nC                     3.305058720341    -3.696684210421     2.120150600675\\nC                     3.394647019788    -3.657948168720     3.557280274342\\nC                     3.394645098874     3.657915402067    -6.402351513804\\nC                     3.305054756803     3.696694725172    -4.965221093997\\nC                     3.244191889719     3.681190118655    -2.134434236613\\nC                     3.244192498273     3.681183837322    -0.710607638805\\nC                     3.305055450026     3.696686337713     2.120171116875\\nC                     3.394644987747     3.657920709714     3.557301145091\\nC                     3.524256092076    -2.487901551798    -7.077124981145\\nC                     3.388666317162    -2.459158958219    -4.260200068965\\nC                     3.368221169328    -2.456039649066    -2.840840076072\\nC                     3.368220878281    -2.456048248196    -0.004206440231\\nC                     3.388666089616    -2.459169414761     1.415155076692\\nC                     3.524256965218    -2.487895963687     4.232082788220\\nC                     3.524255107806     2.487850898956    -7.077141517933\\nC                     3.388663512523     2.459188676811    -4.260215658525\\nC                     3.368217973098     2.456082904011    -2.840847860268\\nC                     3.368218475816     2.456073357654    -0.004197581805\\nC                     3.388664046992     2.459177987431     1.415168443709\\nC                     3.524254938470     2.487857090329     4.232090074990\\nC                     3.542570200948    -1.219005732612    -6.395645753732\\nC                     3.475755222683    -1.228237890524    -4.970401987603\\nC                     3.430567082005    -1.228942601107    -2.131991554609\\nC                     3.430566896793    -1.228951142027    -0.713057237156\\nC                     3.475755317935    -1.228248775699     2.125359625341\\nC                     3.542570883587    -1.219000657803     3.550604449824\\nC                     3.542570624290     1.218954391839    -6.395668630062\\nC                     3.475754026742     1.228263481534    -4.970422429718\\nC                     3.430565468014     1.228989830173    -2.131990358668\\nC                     3.430565759062     1.228980892370    -0.713052998446\\nC                     3.475754375999     1.228252421730     2.125372817729\\nC                     3.542570597831     1.218959440190     3.550617933260\\nC                     3.589719842793    -0.000035147950    -7.072735233928\\nC                     3.474337885025     0.000020886625    -4.259012955145\\nC                     3.454492755355     0.000024950705    -2.840866058673\\nC                     3.454492877066     0.000012366871    -0.004179970787\\nC                     3.474338075529     0.000007260311     1.413967179690\\nC                     3.589720234384    -0.000026088436     4.227689553725\\nH                     2.754263255338    -7.040868584476    -2.642719261126\\nH                     2.754262371612    -7.040874913436    -0.202331869602\\nH                     2.754253121594     7.040900557363    -2.642711106505\\nH                     2.754253973569     7.040894381865    -0.202325625311\\nH                     3.023176751931    -5.816498889402    -4.796678967331\\nH                     3.023176122210    -5.816504429888     1.951630186150\\nH                     3.023170380637     5.816506133838    -4.796692419016\\nH                     3.023171222029     5.816500365807     1.951650501263\\nH                     3.354201333521    -4.595760440099    -6.946996256836\\nH                     3.354203053347    -4.595753105703     4.101959165179\\nH                     3.354201846823     4.595710247640    -6.947048449584\\nH                     3.354201481691     4.595718031837     4.101994244336\\nH                     3.628610462449    -2.494167650277    -8.157316857894\\nH                     3.628611483761    -2.494160733931     5.312275024810\\nH                     3.628609255925     2.494108869272    -8.157333071884\\nH                     3.628609203008     2.494116283045     5.312281745360\\nH                     3.698094795777    -0.000047170857    -8.153506247508\\nH                     3.698095055074    -0.000032935990     5.308459895251\\n\",\"xyz\");\n",
       "\tviewer_1563894836417218.setStyle({\"stick\": {\"radius\": 0.2}, \"sphere\": {\"scale\": 0.3}});\n",
       "\tviewer_1563894836417218.zoomTo();\n",
       "viewer_1563894836417218.render();\n",
       "});\n",
       "</script>"
      ]
     },
     "metadata": {},
     "output_type": "display_data"
    },
    {
     "data": {
      "text/plain": [
       "<py3Dmol.view at 0x115be7c50>"
      ]
     },
     "execution_count": 59,
     "metadata": {},
     "output_type": "execute_result"
    }
   ],
   "source": [
    "final = opt.get_final_molecule()\n",
    "final.show()"
   ]
  },
  {
   "cell_type": "code",
   "execution_count": 68,
   "metadata": {},
   "outputs": [],
   "source": [
    "initial_coords = initial.geometry.copy()\n",
    "final_coords = final.geometry.copy()"
   ]
  },
  {
   "cell_type": "code",
   "execution_count": 70,
   "metadata": {},
   "outputs": [],
   "source": [
    "bond_list_initial = build_bond_list(initial_coords,max_bond=2.93)"
   ]
  },
  {
   "cell_type": "code",
   "execution_count": null,
   "metadata": {},
   "outputs": [],
   "source": []
  },
  {
   "cell_type": "code",
   "execution_count": 73,
   "metadata": {},
   "outputs": [],
   "source": [
    "bond_list_final = build_bond_list(final_coords,max_bond=2.93)\n"
   ]
  },
  {
   "cell_type": "code",
   "execution_count": 78,
   "metadata": {},
   "outputs": [
    {
     "name": "stdout",
     "output_type": "stream",
     "text": [
      "bond (0, 1) initial = 2.6853008199999997 final = 2.5640429800175255 change = 0.12125783998247419\n",
      "bond (0, 5) initial = 2.685300947458371 final = 2.721830285918179 change = -0.03652933845980799\n",
      "bond (0, 54) initial = 2.0494834766860643 final = 2.050790758811911 change = -0.0013072821258468537\n",
      "bond (1, 6) initial = 2.6853009524690883 final = 2.7218295881283754 change = -0.0365286356592871\n",
      "bond (1, 55) initial = 2.0494834766860643 final = 2.0507899790642936 change = -0.0013065023782292684\n",
      "bond (2, 3) initial = 2.6853008199999997 final = 2.5640476200137154 change = 0.12125319998628425\n",
      "bond (2, 9) initial = 2.685300947458371 final = 2.7218316161338745 change = -0.036530668675503364\n",
      "bond (2, 56) initial = 2.0494834766860643 final = 2.0507897182972523 change = -0.0013062416111879749\n",
      "bond (3, 10) initial = 2.6853009524690883 final = 2.7218322358238627 change = -0.0365312833547744\n",
      "bond (3, 57) initial = 2.0494834766860643 final = 2.0507903323327072 change = -0.0013068556466429015\n",
      "bond (4, 5) initial = 2.685300829999999 final = 2.6362688969926538 change = 0.04903193300734543\n",
      "bond (4, 13) initial = 2.685300829993184 final = 2.6362287673968563 change = 0.0490720625963279\n",
      "bond (4, 58) initial = 2.0494834770587396 final = 2.0526208230733363 change = -0.003137346014596698\n",
      "bond (5, 14) initial = 2.6852998829666923 final = 2.6960983036854445 change = -0.010798420718752144\n",
      "bond (6, 7) initial = 2.68530082 final = 2.636270533714002 change = 0.04903028628599815\n",
      "bond (6, 15) initial = 2.6852998879774117 final = 2.6960997775436293 change = -0.01079988956621758\n",
      "bond (7, 16) initial = 2.6852998879774117 final = 2.6362286718268693 change = 0.04907121615054244\n",
      "bond (7, 59) initial = 2.0494834871062877 final = 2.052619784709002 change = -0.0031362976027144995\n",
      "bond (8, 9) initial = 2.685300829999999 final = 2.6362763589350253 change = 0.049024471064973874\n",
      "bond (8, 19) initial = 2.685300829993184 final = 2.6362317513408633 change = 0.04906907865232091\n",
      "bond (8, 60) initial = 2.0494834770587396 final = 2.052618775995513 change = -0.003135298936773445\n",
      "bond (9, 20) initial = 2.6852998829666923 final = 2.696098946310403 change = -0.010799063343710724\n",
      "bond (10, 11) initial = 2.68530082 final = 2.6362743770415618 change = 0.04902644295843839\n",
      "bond (10, 21) initial = 2.6852998879774117 final = 2.69609826814251 change = -0.010798380165098376\n",
      "bond (11, 22) initial = 2.6852998879774117 final = 2.636231235454784 change = 0.0490686525226276\n",
      "bond (11, 61) initial = 2.0494834871062877 final = 2.052619233623958 change = -0.003135746517670235\n",
      "bond (12, 13) initial = 2.685300829999999 final = 2.72203531192571 change = -0.03673448192571094\n",
      "bond (12, 24) initial = 2.6852998829666923 final = 2.564169618543982 change = 0.12113026442271035\n",
      "bond (12, 62) initial = 2.049483475383679 final = 2.0508445474196115 change = -0.001361072035932498\n",
      "bond (13, 25) initial = 2.685300829993184 final = 2.696059263395006 change = -0.010758433401821588\n",
      "bond (14, 15) initial = 2.6853008199999997 final = 2.690631710020097 change = -0.005330890020097456\n",
      "bond (14, 26) initial = 2.6852998829666923 final = 2.682669276790726 change = 0.0026306061759662214\n",
      "bond (15, 27) initial = 2.6852998879774117 final = 2.6826670389495995 change = 0.002632849027812245\n",
      "bond (16, 17) initial = 2.68530082 final = 2.722037657492619 change = -0.03673683749261869\n",
      "bond (16, 28) initial = 2.6852998879774117 final = 2.6960582630681764 change = -0.010758375090764716\n",
      "bond (17, 29) initial = 2.6852998879774117 final = 2.5641705795606935 change = 0.1211293084167182\n",
      "bond (17, 63) initial = 2.049483480394398 final = 2.050843862160726 change = -0.0013603817663279116\n",
      "bond (18, 19) initial = 2.685300829999999 final = 2.722041505034991 change = -0.0367406750349919\n",
      "bond (18, 30) initial = 2.6852998829666923 final = 2.5641788745730825 change = 0.12112100839360984\n",
      "bond (18, 64) initial = 2.049483475383679 final = 2.050844447656416 change = -0.0013609722727370155\n",
      "bond (19, 31) initial = 2.685300829993184 final = 2.6960533339463475 change = -0.010752503953163295\n",
      "bond (20, 21) initial = 2.6853008199999997 final = 2.690642320026428 change = -0.005341500026428303\n",
      "bond (20, 32) initial = 2.6852998829666923 final = 2.6826726488841537 change = 0.002627234082538621\n",
      "bond (21, 33) initial = 2.6852998879774117 final = 2.682674602167853 change = 0.002625285809558786\n",
      "bond (22, 23) initial = 2.68530082 final = 2.7220399755844102 change = -0.0367391555844101\n",
      "bond (22, 34) initial = 2.6852998879774117 final = 2.6960545100618356 change = -0.010754622084423904\n",
      "bond (23, 35) initial = 2.6852998879774117 final = 2.564176414497956 change = 0.12112347347945551\n",
      "bond (23, 65) initial = 2.049483480394398 final = 2.0508448708356606 change = -0.0013613904412626\n",
      "bond (24, 36) initial = 2.685300947458371 final = 2.7220230301094754 change = -0.036722082651104326\n",
      "bond (24, 66) initial = 2.0494834799999992 final = 2.0508044054115038 change = -0.0013209254115045255\n",
      "bond (25, 26) initial = 2.685300829999999 final = 2.6824863860456256 change = 0.00281444395437358\n",
      "bond (25, 37) initial = 2.6853018944844873 final = 2.6905465841620844 change = -0.005244689677597059\n",
      "bond (26, 38) initial = 2.685300947458371 final = 2.680561957509339 change = 0.004738989949032213\n",
      "bond (27, 28) initial = 2.68530082 final = 2.682489275183641 change = 0.002811544816359035\n",
      "bond (27, 39) initial = 2.6853009524690883 final = 2.6805642102547806 change = 0.004736742214307643\n",
      "bond (28, 40) initial = 2.6853009524690883 final = 2.6905484003099565 change = -0.005247447840868169\n",
      "bond (29, 41) initial = 2.6853009524690883 final = 2.722021376226541 change = -0.03672042375745255\n",
      "bond (29, 67) initial = 2.049483480000001 final = 2.050805094682261 change = -0.0013216146822601083\n",
      "bond (30, 42) initial = 2.685300947458371 final = 2.7220185413147258 change = -0.03671759385635465\n",
      "bond (30, 68) initial = 2.0494834799999992 final = 2.0508036692319536 change = -0.0013201892319543163\n",
      "bond (31, 32) initial = 2.685300829999999 final = 2.6825010890496643 change = 0.0027997409503348614\n",
      "bond (31, 43) initial = 2.6853018944844873 final = 2.6905580877221253 change = -0.0052561932376380405\n",
      "bond (32, 44) initial = 2.685300947458371 final = 2.6805640725487785 change = 0.0047368749095926255\n",
      "bond (33, 34) initial = 2.68530082 final = 2.6824977355443593 change = 0.002803084455640814\n",
      "bond (33, 45) initial = 2.6853009524690883 final = 2.680561091221982 change = 0.004739861247106347\n",
      "bond (34, 46) initial = 2.6853009524690883 final = 2.6905564118575427 change = -0.005255459388454398\n",
      "bond (35, 47) initial = 2.6853009524690883 final = 2.72201978044889 change = -0.03671882797980164\n",
      "bond (35, 69) initial = 2.049483480000001 final = 2.0508039226853367 change = -0.0013204426853357099\n",
      "bond (36, 37) initial = 2.685300829999999 final = 2.696334759656457 change = -0.011033929656457886\n",
      "bond (36, 48) initial = 2.6853008398744698 final = 2.636532006559348 change = 0.04876883331512172\n",
      "bond (37, 49) initial = 2.685301786900624 final = 2.682277014835587 change = 0.0030247720650371512\n",
      "bond (38, 39) initial = 2.6853008199999997 final = 2.681397250048598 change = 0.003903569951401842\n",
      "bond (38, 50) initial = 2.6853008398744698 final = 2.6814386328151083 change = 0.0038622070593614666\n",
      "bond (39, 51) initial = 2.6853008448851874 final = 2.6814346333317425 change = 0.0038662115534449093\n",
      "bond (40, 41) initial = 2.68530082 final = 2.696337004713522 change = -0.011036184713521635\n",
      "bond (40, 52) initial = 2.6853008448851874 final = 2.682275764899848 change = 0.0030250799853392962\n",
      "bond (41, 53) initial = 2.6853008448851874 final = 2.6365345534604177 change = 0.04876629142476974\n",
      "bond (42, 43) initial = 2.685300829999999 final = 2.696340442384856 change = -0.011039612384856845\n",
      "bond (42, 48) initial = 2.6853008398744698 final = 2.63654229620249 change = 0.04875854367197974\n",
      "bond (43, 49) initial = 2.685301786900624 final = 2.682269911997115 change = 0.003031874903509202\n",
      "bond (44, 45) initial = 2.6853008199999997 final = 2.6814030000532503 change = 0.0038978199467494257\n",
      "bond (44, 50) initial = 2.6853008398744698 final = 2.6814354394476605 change = 0.0038654004268092734\n",
      "bond (45, 51) initial = 2.6853008448851874 final = 2.681438878673595 change = 0.0038619662115921827\n",
      "bond (46, 47) initial = 2.68530082 final = 2.6963381630025953 change = -0.011037343002595179\n",
      "bond (46, 52) initial = 2.6853008448851874 final = 2.6822704754077114 change = 0.003030369477476036\n",
      "bond (47, 53) initial = 2.6853008448851874 final = 2.636540300741533 change = 0.04876054414365427\n",
      "bond (48, 70) initial = 2.0494834799999992 final = 2.0526037064385148 change = -0.0031202264385155054\n",
      "bond (49, 50) initial = 2.685300829999999 final = 2.680171622154041 change = 0.005129207845958383\n",
      "bond (51, 52) initial = 2.68530082 final = 2.6801721039324247 change = 0.005128716067575478\n",
      "bond (53, 71) initial = 2.049483480000001 final = 2.0526024177470563 change = -0.003118937747055295\n"
     ]
    }
   ],
   "source": [
    "for i in bond_list_initial.keys():\n",
    "    print(F'bond {i} initial = {bond_list_initial[i]} final = {bond_list_final[i]} change = {bond_list_initial[i]-bond_list_final[i]}')"
   ]
  },
  {
   "cell_type": "code",
   "execution_count": null,
   "metadata": {},
   "outputs": [],
   "source": []
  },
  {
   "cell_type": "code",
   "execution_count": null,
   "metadata": {},
   "outputs": [],
   "source": []
  }
 ],
 "metadata": {
  "kernelspec": {
   "display_name": "Python 3",
   "language": "python",
   "name": "python3"
  },
  "language_info": {
   "codemirror_mode": {
    "name": "ipython",
    "version": 3
   },
   "file_extension": ".py",
   "mimetype": "text/x-python",
   "name": "python",
   "nbconvert_exporter": "python",
   "pygments_lexer": "ipython3",
   "version": "3.7.3"
  }
 },
 "nbformat": 4,
 "nbformat_minor": 2
}
